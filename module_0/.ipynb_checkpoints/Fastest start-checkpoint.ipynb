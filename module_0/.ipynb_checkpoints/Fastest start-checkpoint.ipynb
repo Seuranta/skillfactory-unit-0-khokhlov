{
 "cells": [
  {
   "cell_type": "markdown",
   "metadata": {},
   "source": [
    "## В этом блоке я вручную проводил пробы разных вариантов логики, которые затем переписывал в код"
   ]
  },
  {
   "cell_type": "code",
   "execution_count": 6,
   "metadata": {},
   "outputs": [
    {
     "name": "stdout",
     "output_type": "stream",
     "text": [
      "Загадано число от 1 до 100\n",
      "78\n",
      "Угадываемое число меньше 78 \n",
      "68\n",
      "Угадываемое число меньше 68 \n",
      "58\n",
      "Угадываемое число меньше 58 \n",
      "48\n",
      "Угадываемое число меньше 48 \n",
      "38\n",
      "Угадываемое число меньше 38 \n",
      "28\n",
      "Угадываемое число меньше 28 \n",
      "18\n",
      "Угадываемое число меньше 18 \n",
      "8\n",
      "Угадываемое число больше 8 \n",
      "10\n",
      "Угадываемое число больше 10 \n",
      "12\n",
      "Угадываемое число больше 12 \n",
      "14\n",
      "Угадываемое число больше 14 \n",
      "16\n",
      "Угадываемое число больше 16 \n",
      "17\n",
      "Вы угадали число 17 за 13 попыток.\n"
     ]
    }
   ],
   "source": [
    "import numpy as np\n",
    "count = 0                            # счетчик попыток\n",
    "number = np.random.randint(1, 101)   # загадали число\n",
    "print (\"Загадано число от 1 до 100\")\n",
    "\n",
    "while True:                        # бесконечный цикл\n",
    "    predict = int(input())         # предполагаемое число\n",
    "    count += 1                     # плюсуем попытку\n",
    "    if number == predict: \n",
    "        break    # выход из цикла, если угадали\n",
    "    elif number > predict: \n",
    "        print (f\"Угадываемое число больше {predict} \")\n",
    "    elif number < predict: \n",
    "        print (f\"Угадываемое число меньше {predict} \")\n",
    "        \n",
    "print (f\"Вы угадали число {number} за {count} попыток.\")\n"
   ]
  },
  {
   "cell_type": "markdown",
   "metadata": {},
   "source": [
    "## В этом блоке я записывал и тестировал различные варианты алгоритма"
   ]
  },
  {
   "cell_type": "code",
   "execution_count": 3,
   "metadata": {},
   "outputs": [
    {
     "name": "stdout",
     "output_type": "stream",
     "text": [
      "введите число 55\n",
      "50\n",
      "60\n",
      "58\n",
      "56\n",
      "54\n",
      "55\n",
      "6\n"
     ]
    }
   ],
   "source": [
    "'''Вариант №1'''\n",
    "\n",
    "number = int(input('введите число '))\n",
    "count = 0\n",
    "predict = np.random.randint(1, 101)\n",
    "\n",
    "while number != predict:\n",
    "    if predict > number:\n",
    "        while predict > number:\n",
    "            predict -= 10\n",
    "            print(predict)\n",
    "            count += 1\n",
    "        while predict < number:\n",
    "            predict += 2\n",
    "            count += 1\n",
    "        while predict > number:\n",
    "            predict -= 1\n",
    "            print(predict)\n",
    "            count += 1\n",
    "    if predict < number:\n",
    "        while predict < number:\n",
    "            predict += 10\n",
    "            print(predict)\n",
    "            count += 1\n",
    "        while predict > number:\n",
    "            predict -= 2\n",
    "            print(predict)\n",
    "            count += 1\n",
    "        while predict < number:\n",
    "            predict += 1\n",
    "            print(predict)\n",
    "            count += 1\n",
    "\n",
    "print(count)\n"
   ]
  },
  {
   "cell_type": "code",
   "execution_count": 4,
   "metadata": {},
   "outputs": [
    {
     "name": "stdout",
     "output_type": "stream",
     "text": [
      "введите число 55\n",
      "33\n",
      "43\n",
      "53\n",
      "63\n",
      "62\n",
      "61\n",
      "60\n",
      "59\n",
      "58\n",
      "57\n",
      "56\n",
      "55\n",
      "12\n"
     ]
    }
   ],
   "source": [
    "'''Вариант №2'''\n",
    "\n",
    "number = int(input('введите число '))\n",
    "count = 0\n",
    "predict = np.random.randint(1, 101)\n",
    "\n",
    "while number != predict:\n",
    "    if predict > number:\n",
    "        while predict > number:\n",
    "            predict -= 10\n",
    "            print(predict)\n",
    "            count += 1\n",
    "        while predict < number:\n",
    "            predict += 1\n",
    "    if predict < number:\n",
    "        while predict < number:\n",
    "            predict += 10\n",
    "            print(predict)\n",
    "            count += 1\n",
    "        while predict > number:\n",
    "            predict -= 1\n",
    "            print(predict)\n",
    "            count += 1\n",
    "\n",
    "print(count)\n"
   ]
  },
  {
   "cell_type": "markdown",
   "metadata": {},
   "source": [
    "## В этом блоке проводится прогон финального варианта"
   ]
  },
  {
   "cell_type": "code",
   "execution_count": 4,
   "metadata": {},
   "outputs": [
    {
     "name": "stdout",
     "output_type": "stream",
     "text": [
      "Ваш алгоритм угадывает число в среднем за 7 попыток\n"
     ]
    },
    {
     "data": {
      "text/plain": [
       "7"
      ]
     },
     "execution_count": 4,
     "metadata": {},
     "output_type": "execute_result"
    }
   ],
   "source": [
    "def game_core(number):\n",
    "    '''Сначала устанавливаем любое random число,\n",
    "    а потом уменьшаем или увеличиваем его в зависимости от того,\n",
    "    больше оно или меньше нужного.\n",
    "    Функция принимает загаданное число и возвращает число попыток.\n",
    "    '''\n",
    "    import numpy as np\n",
    "    count = 1\n",
    "    predict = np.random.randint(1, 101)\n",
    "\n",
    "    while number != predict:  # Определяем направление работы алгорита (в большую или меньшую сторону).\n",
    "        if predict > number:  # Если начальное число больше загаданного, ищем в сторону уменьшения.\n",
    "            while predict > number:  # Сначала идем с большим шагом 10.\n",
    "                predict -= 10\n",
    "                count += 1\n",
    "            while predict < number:  # Если проскочили, идем в обратном направлении и уменьшаем шаг до 2.\n",
    "                predict += 2\n",
    "                count += 1\n",
    "            while predict > number:  # Если снова проскочили, опять меняем направление и перебираем каждый элемент.\n",
    "                predict -= 1\n",
    "                count += 1\n",
    "        if predict < number:  # Если начальное число меньше загаданного, алгоритм обратный.\n",
    "            while predict < number:\n",
    "                predict += 10\n",
    "                count += 1\n",
    "            while predict > number:\n",
    "                predict -= 2\n",
    "                count += 1\n",
    "            while predict < number:\n",
    "                predict += 1\n",
    "                count += 1\n",
    "    return(count)   # Выход из цикла, если угадали.\n",
    "\n",
    "\n",
    "def score_game(game_core):\n",
    "    '''Запускаем игру 1000 раз, чтобы узнать,\n",
    "    как быстро игра угадывает число'''\n",
    "    count_ls = []\n",
    "    np.random.seed(1)  # Фиксируем RANDOM SEED,чтобы ваш эксперимент был воспроизводим!\n",
    "    random_array = np.random.randint(1, 101, size=(1000))\n",
    "    for number in random_array:\n",
    "        count_ls.append(game_core(number))\n",
    "    score = int(np.mean(count_ls))\n",
    "    print(f\"Ваш алгоритм угадывает число в среднем за {score} попыток\")\n",
    "    return(score)\n",
    "\n",
    "score_game(game_core)"
   ]
  },
  {
   "cell_type": "code",
   "execution_count": null,
   "metadata": {},
   "outputs": [],
   "source": []
  }
 ],
 "metadata": {
  "kernelspec": {
   "display_name": "Python 3",
   "language": "python",
   "name": "python3"
  },
  "language_info": {
   "codemirror_mode": {
    "name": "ipython",
    "version": 3
   },
   "file_extension": ".py",
   "mimetype": "text/x-python",
   "name": "python",
   "nbconvert_exporter": "python",
   "pygments_lexer": "ipython3",
   "version": "3.7.6"
  }
 },
 "nbformat": 4,
 "nbformat_minor": 4
}
